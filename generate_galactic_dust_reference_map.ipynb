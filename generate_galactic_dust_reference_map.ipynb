{
 "cells": [
  {
   "cell_type": "code",
   "execution_count": null,
   "metadata": {
    "colab": {
     "base_uri": "https://localhost:8080/"
    },
    "id": "WjJ2dvykc1zp",
    "outputId": "ab31b140-db54-46b6-870b-69d4204f4ed3"
   },
   "outputs": [],
   "source": [
    "# %pip install pysm3 pixell healpy"
   ]
  },
  {
   "cell_type": "code",
   "execution_count": null,
   "metadata": {
    "id": "c1RT4x0hc6vV"
   },
   "outputs": [],
   "source": [
    "import pysm3\n",
    "from matplotlib import pyplot as plt\n",
    "import numpy as np\n",
    "import pixell\n",
    "from pysm3 import units as u\n",
    "import healpy as hp"
   ]
  },
  {
   "cell_type": "code",
   "execution_count": null,
   "metadata": {
    "colab": {
     "base_uri": "https://localhost:8080/",
     "height": 37
    },
    "id": "OI3v0hAWgBmc",
    "outputId": "048cad54-3da3-4fb9-ad63-4572eb8e5515"
   },
   "outputs": [],
   "source": [
    "nside = 256  # higher for high resolution\n",
    "healpix_reso = hp.nside2resol(nside) * u.radian\n",
    "healpix_reso.to(u.arcmin)"
   ]
  },
  {
   "cell_type": "code",
   "execution_count": null,
   "metadata": {
    "id": "6N9FGgNOhYiA"
   },
   "outputs": [],
   "source": [
    "npix = hp.nside2npix(nside)\n",
    "print(npix / 1e6, \"Mpix\")"
   ]
  },
  {
   "cell_type": "code",
   "execution_count": null,
   "metadata": {
    "id": "oVAXqTFLdJ52"
   },
   "outputs": [],
   "source": [
    "sky = pysm3.Sky(nside=nside, preset_strings=[\"d10\"])"
   ]
  },
  {
   "cell_type": "code",
   "execution_count": null,
   "metadata": {
    "id": "8qlqtHD9dVre"
   },
   "outputs": [],
   "source": [
    "freq = 353 * u.GHz"
   ]
  },
  {
   "cell_type": "code",
   "execution_count": null,
   "metadata": {
    "id": "mwfS3dD9dfIT"
   },
   "outputs": [],
   "source": [
    "m = sky.get_emission(freq)"
   ]
  },
  {
   "cell_type": "code",
   "execution_count": null,
   "metadata": {
    "colab": {
     "base_uri": "https://localhost:8080/",
     "height": 405
    },
    "id": "TvUA-yz1dkvT",
    "outputId": "1e4263f1-a6c2-46a4-af3f-cdc7e9028de4"
   },
   "outputs": [],
   "source": [
    "hp.mollview(m[0], max=1e3)"
   ]
  },
  {
   "cell_type": "code",
   "execution_count": null,
   "metadata": {
    "id": "WNnO7Q80h5en"
   },
   "outputs": [],
   "source": [
    "import pixell.enmap"
   ]
  },
  {
   "cell_type": "code",
   "execution_count": null,
   "metadata": {},
   "outputs": [],
   "source": [
    "import numpy as np\n",
    "\n",
    "import astropy.units as u\n",
    "\n",
    "car_reso = (np.pi / np.round(np.pi / healpix_reso.value)) * u.radian\n",
    "print(healpix_reso.to(u.arcmin), car_reso.to(u.arcmin))"
   ]
  },
  {
   "cell_type": "code",
   "execution_count": null,
   "metadata": {
    "colab": {
     "base_uri": "https://localhost:8080/",
     "height": 379
    },
    "id": "ceiehFt8drld",
    "outputId": "9057cad2-daae-4c0d-8e3c-9af7495ffc1d"
   },
   "outputs": [],
   "source": [
    "m_car = pysm3.apply_smoothing_and_coord_transform(\n",
    "    m, output_car_resol=car_reso, return_healpix=False, return_car=True\n",
    ")"
   ]
  },
  {
   "cell_type": "code",
   "execution_count": null,
   "metadata": {
    "id": "yDPfPvKXdo80"
   },
   "outputs": [],
   "source": [
    "m_car.shape"
   ]
  },
  {
   "cell_type": "code",
   "execution_count": null,
   "metadata": {
    "id": "YubXTzrxg5wG"
   },
   "outputs": [],
   "source": [
    "from pixell.enplot import plot, pshow"
   ]
  },
  {
   "cell_type": "code",
   "execution_count": null,
   "metadata": {
    "id": "NSlPYQ3bg8Qs"
   },
   "outputs": [],
   "source": [
    "pshow(m_car)"
   ]
  },
  {
   "cell_type": "markdown",
   "metadata": {
    "id": "eYaE8oeNg9A1"
   },
   "source": [
    "The maps have Intensity and then the Q and U components of polarization, we can start just using Intensity"
   ]
  },
  {
   "cell_type": "code",
   "execution_count": null,
   "metadata": {},
   "outputs": [],
   "source": [
    "import h5py\n",
    "\n",
    "with h5py.File(\"d10_dust.h5\", \"w\") as f:\n",
    "    f.create_dataset(\"I\", data=m_car[0])"
   ]
  },
  {
   "cell_type": "code",
   "execution_count": null,
   "metadata": {},
   "outputs": [],
   "source": []
  }
 ],
 "metadata": {
  "colab": {
   "provenance": []
  },
  "kernelspec": {
   "display_name": "pysm",
   "language": "python",
   "name": "python3"
  },
  "language_info": {
   "codemirror_mode": {
    "name": "ipython",
    "version": 3
   },
   "file_extension": ".py",
   "mimetype": "text/x-python",
   "name": "python",
   "nbconvert_exporter": "python",
   "pygments_lexer": "ipython3",
   "version": "3.11.0"
  }
 },
 "nbformat": 4,
 "nbformat_minor": 0
}
